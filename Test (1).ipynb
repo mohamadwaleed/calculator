{
 "cells": [
  {
   "cell_type": "markdown",
   "id": "6ebcd12f",
   "metadata": {},
   "source": [
    "# LIST"
   ]
  },
  {
   "cell_type": "code",
   "execution_count": 5,
   "id": "9ee6dd67",
   "metadata": {},
   "outputs": [
    {
     "data": {
      "text/plain": [
       "[1, 2, 3, 25.49, 'pen', True]"
      ]
     },
     "execution_count": 5,
     "metadata": {},
     "output_type": "execute_result"
    }
   ],
   "source": [
    "L= [1,2,3,25.49,\"pen\",True]\n",
    "L"
   ]
  },
  {
   "cell_type": "markdown",
   "id": "651c9049",
   "metadata": {},
   "source": [
    "# Set"
   ]
  },
  {
   "cell_type": "code",
   "execution_count": 10,
   "id": "ed51a012",
   "metadata": {},
   "outputs": [
    {
     "data": {
      "text/plain": [
       "{2, 365.47, 4, 5, True, 'ball'}"
      ]
     },
     "execution_count": 10,
     "metadata": {},
     "output_type": "execute_result"
    }
   ],
   "source": [
    "S={5,2,4,365.47,\"ball\",True}\n",
    "S"
   ]
  },
  {
   "cell_type": "markdown",
   "id": "a8e04ea5",
   "metadata": {},
   "source": [
    "# Dict"
   ]
  },
  {
   "cell_type": "code",
   "execution_count": 9,
   "id": "677d9b9f",
   "metadata": {},
   "outputs": [
    {
     "data": {
      "text/plain": [
       "{'one': 1, 'two': 2, 'key3': 23.4, 55.3: True}"
      ]
     },
     "execution_count": 9,
     "metadata": {},
     "output_type": "execute_result"
    }
   ],
   "source": [
    "dic={\"one\" : 1 , \"two\" : 2 , \"key3\" : 23.4 , 55.3 : True }\n",
    "dic"
   ]
  },
  {
   "cell_type": "markdown",
   "id": "6d6ffd1d",
   "metadata": {},
   "source": [
    "# Tuple"
   ]
  },
  {
   "cell_type": "code",
   "execution_count": 7,
   "id": "d4c409d1",
   "metadata": {},
   "outputs": [
    {
     "data": {
      "text/plain": [
       "(1, 3, 6, 45.2, 'cell', False)"
      ]
     },
     "execution_count": 7,
     "metadata": {},
     "output_type": "execute_result"
    }
   ],
   "source": [
    "t=(1,3,6,45.2,\"cell\",False)\n",
    "t"
   ]
  }
 ],
 "metadata": {
  "kernelspec": {
   "display_name": "Python 3 (ipykernel)",
   "language": "python",
   "name": "python3"
  },
  "language_info": {
   "codemirror_mode": {
    "name": "ipython",
    "version": 3
   },
   "file_extension": ".py",
   "mimetype": "text/x-python",
   "name": "python",
   "nbconvert_exporter": "python",
   "pygments_lexer": "ipython3",
   "version": "3.11.4"
  }
 },
 "nbformat": 4,
 "nbformat_minor": 5
}
