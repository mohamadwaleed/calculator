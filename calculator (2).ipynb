{
 "cells": [
  {
   "cell_type": "code",
   "execution_count": null,
   "id": "298dad1a",
   "metadata": {},
   "outputs": [],
   "source": [
    "num1= float(input(\"please enter the frist number:\"))"
   ]
  },
  {
   "cell_type": "code",
   "execution_count": null,
   "id": "acce79b6",
   "metadata": {},
   "outputs": [],
   "source": [
    "operators = input(\"please enter operator:\")"
   ]
  },
  {
   "cell_type": "code",
   "execution_count": null,
   "id": "b4cb4227",
   "metadata": {},
   "outputs": [],
   "source": [
    "num2= float(input(\"please enter the second number:\"))"
   ]
  },
  {
   "cell_type": "code",
   "execution_count": null,
   "id": "09d411ff",
   "metadata": {},
   "outputs": [],
   "source": [
    "if operator==\"+\" :\n",
    "    print(num1 + num2)\n",
    "    \n",
    "elif operator==\"-\" :\n",
    "    print(num1 - num2)\n",
    "    \n",
    "elif operator==\"/\" :\n",
    "    print(num1 / num2)\n",
    "    \n",
    "elif operator==\"*\" :\n",
    "    print(num1 * num2)\n",
    "    \n",
    "elif i/0 :\n",
    "    print(math error)\n",
    "    \n",
    "else :\n",
    "    print(enter number please)"
   ]
  },
  {
   "cell_type": "code",
   "execution_count": null,
   "id": "0f53af76",
   "metadata": {},
   "outputs": [],
   "source": []
  }
 ],
 "metadata": {
  "kernelspec": {
   "display_name": "Python 3 (ipykernel)",
   "language": "python",
   "name": "python3"
  },
  "language_info": {
   "codemirror_mode": {
    "name": "ipython",
    "version": 3
   },
   "file_extension": ".py",
   "mimetype": "text/x-python",
   "name": "python",
   "nbconvert_exporter": "python",
   "pygments_lexer": "ipython3",
   "version": "3.11.4"
  }
 },
 "nbformat": 4,
 "nbformat_minor": 5
}
